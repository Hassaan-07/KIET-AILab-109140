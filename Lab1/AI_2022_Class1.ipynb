{
  "cells": [
    {
      "cell_type": "markdown",
      "metadata": {
        "id": "view-in-github",
        "colab_type": "text"
      },
      "source": [
        "<a href=\"https://colab.research.google.com/github/Hassaan-07/KIET-AILab-109140/blob/master/AI_2022_Class1.ipynb\" target=\"_parent\"><img src=\"https://colab.research.google.com/assets/colab-badge.svg\" alt=\"Open In Colab\"/></a>"
      ]
    },
    {
      "cell_type": "code",
      "execution_count": 3,
      "metadata": {
        "colab": {
          "base_uri": "https://localhost:8080/"
        },
        "id": "VGbpuqUhtp0K",
        "outputId": "0a89cf05-320d-4c5d-bfa3-867eaaff373d"
      },
      "outputs": [
        {
          "output_type": "stream",
          "name": "stdout",
          "text": [
            "\t\tVaccum Cleaner\n",
            "\n",
            "Intializing Rooms envirmonet randomly...\n",
            "Room A = dirty \t Room B = clean \n",
            " ------------------------------ \n",
            "\n",
            "Vaccum Position is randomly defined at room A \n",
            " checking room A...\n",
            "start cleaning...   Room A has been cleaned\n",
            "Vaccum moved to room B \n",
            " checking room B...\n",
            "Room B has already cleaned\n",
            "Both rooms are cleaned = {'A': 1, 'B': 1}\n",
            "Totalscore = 0\n"
          ]
        }
      ],
      "source": [
        "import random as rt\n",
        "\n",
        "\n",
        "def simpleReflexAgent(vaccum_location,score=-1):\n",
        "  # check if vaccum default position in room A\n",
        "  if vaccum_location == 1:\n",
        "    print(f\"Vaccum Position is randomly defined at room A \\n checking room A...\")\n",
        "    if rooms['A']==0:\n",
        "      print(f\"start cleaning...   Room A has been cleaned\")\n",
        "      score += 1\n",
        "      rooms['A'] = 1\n",
        "    else:\n",
        "      print(\"Room A has already cleaned\")\n",
        "    \n",
        "    print(\"Vaccum moved to room B \\n checking room B...\")\n",
        "    if rooms['B']==0:\n",
        "      print(f\"start cleaning...   Room B has been cleaned\")\n",
        "      score += 1\n",
        "      rooms['B'] = 1\n",
        "\n",
        "    else:\n",
        "      print(\"Room B has already cleaned\")\n",
        "  \n",
        "\n",
        "    \n",
        "  else:\n",
        "    print(\"Vaccum Position is randomly defined at room B \\n checking room B...\")\n",
        "    if rooms['B']==0:\n",
        "      print(f\"start cleaning...  Room B has been cleaned\")\n",
        "      score += 1\n",
        "      rooms['B'] = 1\n",
        "    else:\n",
        "      print(\"Room B has already cleaned\")\n",
        "\n",
        "    print(\"Vaccum moved to room A \\n checking room A...\")\n",
        "    if rooms['A']==0:\n",
        "      print(f\"start cleaning...  Room A has been cleaned\")\n",
        "      score += 1\n",
        "      rooms['A'] = 1\n",
        "    else:\n",
        "      print(\"Room A has already cleaned\")\n",
        "\n",
        "\n",
        "  print(f\"Both rooms are cleaned = {rooms}\")\n",
        "\n",
        "  return score\n",
        "\n",
        "\n",
        "\n",
        "\n",
        "#  0 means room is dirty , 1 means room is clean\n",
        "# generating random value for room_a\n",
        "room_a = rt.randint(0,1)\n",
        "# generating random value for room_a\n",
        "room_b = rt.randint(0,1)\n",
        "\n",
        "# defining default vaccum position in a room randomly in the begining,\n",
        "# 1 means room A and 2 means room B\n",
        "vaccum_location = rt.randint(1,2)\n",
        "\n",
        "rooms = {\n",
        "    'A' : room_a,\n",
        "    'B' : room_b\n",
        "}\n",
        "\n",
        "enviroment = [\"dirty\",\"clean\"]\n",
        "\n",
        "print(\"\\t\\tVaccum Cleaner\\n\")\n",
        "print(\"Intializing Rooms envirmonet randomly...\")\n",
        "print(f\"Room A = {enviroment[room_a]} \\t Room B = {enviroment[room_b]} \\n {'-'*30} \\n\")\n",
        "total_score = simpleReflexAgent(vaccum_location)\n",
        "print(f\"Totalscore = {total_score}\")\n"
      ]
    },
    {
      "cell_type": "code",
      "execution_count": null,
      "metadata": {
        "id": "ETOHhhiVuPMm"
      },
      "outputs": [],
      "source": [
        ""
      ]
    }
  ],
  "metadata": {
    "colab": {
      "collapsed_sections": [],
      "name": "AI-2022-Class1",
      "provenance": [],
      "authorship_tag": "ABX9TyPuYLV304g1xSurZpFiKZHm",
      "include_colab_link": true
    },
    "kernelspec": {
      "display_name": "Python 3",
      "name": "python3"
    },
    "language_info": {
      "name": "python"
    }
  },
  "nbformat": 4,
  "nbformat_minor": 0
}